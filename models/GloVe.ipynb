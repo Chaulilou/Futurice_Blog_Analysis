{
 "cells": [
  {
   "cell_type": "code",
   "execution_count": 2,
   "id": "062496a9",
   "metadata": {},
   "outputs": [],
   "source": [
    "import pandas as pd\n",
    "import numpy as np\n",
    "import re"
   ]
  },
  {
   "cell_type": "code",
   "execution_count": 4,
   "id": "34a151a6",
   "metadata": {},
   "outputs": [
    {
     "name": "stdout",
     "output_type": "stream",
     "text": [
      "(805, 2)\n",
      "804\n"
     ]
    }
   ],
   "source": [
    "# prepare corpus for GloVe\n",
    "df = pd.read_csv('../data/blogs_with_analytics.csv', sep='\\t', engine='python')\n",
    "df['group'] = 0\n",
    "text_df = df[['text', 'group']]\n",
    "print(text_df.shape)\n",
    "\n",
    "# join all blogs as a single document separated by '\\n\n",
    "text_df = text_df.groupby(['group'])['text'].apply(lambda x: '\\n'.join(x)).reset_index()\n",
    "\n",
    "#checks that the number of '\\n' characters is exactly 804\n",
    "print(text_df['text'].iloc[0].count('\\n'))"
   ]
  },
  {
   "cell_type": "code",
   "execution_count": 58,
   "id": "00e00033",
   "metadata": {},
   "outputs": [],
   "source": [
    "tfile = open('../data/blog_corpus.txt', 'a')\n",
    "tfile.write(text_df['text'].iloc[0])\n",
    "tfile.close()"
   ]
  }
 ],
 "metadata": {
  "kernelspec": {
   "display_name": "Python 3.8.8 ('base')",
   "language": "python",
   "name": "python3"
  },
  "language_info": {
   "codemirror_mode": {
    "name": "ipython",
    "version": 3
   },
   "file_extension": ".py",
   "mimetype": "text/x-python",
   "name": "python",
   "nbconvert_exporter": "python",
   "pygments_lexer": "ipython3",
   "version": "3.8.8"
  },
  "vscode": {
   "interpreter": {
    "hash": "d4046141520984ea18f437a9e0421a0fa992dd639f34e4435eb5fcedcd3014b5"
   }
  }
 },
 "nbformat": 4,
 "nbformat_minor": 5
}
