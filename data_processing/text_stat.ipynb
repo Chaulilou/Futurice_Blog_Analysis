{
 "cells": [
  {
   "cell_type": "markdown",
   "metadata": {},
   "source": [
    "This notebook is to calculate and add some basic text statistic to the csv file"
   ]
  },
  {
   "cell_type": "code",
   "execution_count": 41,
   "metadata": {},
   "outputs": [],
   "source": [
    "import re\n",
    "import textstat\n",
    "import string\n",
    "import numpy as np\n",
    "import pandas as pd\n",
    "from nltk.corpus import stopwords\n",
    "from nltk.tokenize import sent_tokenize, word_tokenize\n",
    "from itertools import chain\n",
    "\n",
    "## First time users should uncomment the below two lines\n",
    "# nltk.download('stopwords')    \n",
    "# nltk.download('punkt')\n",
    "# nltk.download('wordnet')\n",
    "# nltk.download('omw-1.4')\n"
   ]
  },
  {
   "cell_type": "code",
   "execution_count": 42,
   "metadata": {},
   "outputs": [
    {
     "data": {
      "text/html": [
       "<div>\n",
       "<style scoped>\n",
       "    .dataframe tbody tr th:only-of-type {\n",
       "        vertical-align: middle;\n",
       "    }\n",
       "\n",
       "    .dataframe tbody tr th {\n",
       "        vertical-align: top;\n",
       "    }\n",
       "\n",
       "    .dataframe thead th {\n",
       "        text-align: right;\n",
       "    }\n",
       "</style>\n",
       "<table border=\"1\" class=\"dataframe\">\n",
       "  <thead>\n",
       "    <tr style=\"text-align: right;\">\n",
       "      <th></th>\n",
       "      <th>index</th>\n",
       "      <th>url</th>\n",
       "      <th>title</th>\n",
       "      <th>time</th>\n",
       "      <th>category</th>\n",
       "      <th>description</th>\n",
       "      <th>text</th>\n",
       "      <th>introduction</th>\n",
       "      <th>author</th>\n",
       "      <th>author_job_title</th>\n",
       "      <th>...</th>\n",
       "      <th>exit%</th>\n",
       "      <th>semantic neg score</th>\n",
       "      <th>semantic neu score</th>\n",
       "      <th>semantic pos score</th>\n",
       "      <th>semantic compound score</th>\n",
       "      <th>average_sentence_length</th>\n",
       "      <th>dale_chall</th>\n",
       "      <th>flesch</th>\n",
       "      <th>average_stopword</th>\n",
       "      <th>text_length</th>\n",
       "    </tr>\n",
       "  </thead>\n",
       "  <tbody>\n",
       "    <tr>\n",
       "      <th>0</th>\n",
       "      <td>0</td>\n",
       "      <td>blog/futustories-six-reasons-pasi-left-and-cam...</td>\n",
       "      <td>FutuStories - Six reasons Pasi left – and came...</td>\n",
       "      <td>2022-09-16</td>\n",
       "      <td>Culture</td>\n",
       "      <td>For Senior Cloud Consultant Pasi, a change can...</td>\n",
       "      <td>1. I need awesome people around me…\\r\\nI’d say...</td>\n",
       "      <td>For Cloud Archtitect Pasi, a change can be as ...</td>\n",
       "      <td>Pia Hämäri</td>\n",
       "      <td>Marketing Lead, Finland</td>\n",
       "      <td>...</td>\n",
       "      <td>0.527473</td>\n",
       "      <td>0.053</td>\n",
       "      <td>0.760</td>\n",
       "      <td>0.187</td>\n",
       "      <td>0.9990</td>\n",
       "      <td>17.560976</td>\n",
       "      <td>6.88</td>\n",
       "      <td>75.84</td>\n",
       "      <td>8.707317</td>\n",
       "      <td>720</td>\n",
       "    </tr>\n",
       "    <tr>\n",
       "      <th>1</th>\n",
       "      <td>1</td>\n",
       "      <td>blog/foresight-methods-and-strategic-planning</td>\n",
       "      <td>Foresight methods and strategic planning in bu...</td>\n",
       "      <td>2022-09-13</td>\n",
       "      <td>Strategy</td>\n",
       "      <td>Foresight methods and strategic planning lead ...</td>\n",
       "      <td>This is where foresight methods and strategic ...</td>\n",
       "      <td>If the past few years have taught us anything,...</td>\n",
       "      <td>Annina Antinranta</td>\n",
       "      <td>Principal Designer - Emerging Business</td>\n",
       "      <td>...</td>\n",
       "      <td>0.272727</td>\n",
       "      <td>0.020</td>\n",
       "      <td>0.849</td>\n",
       "      <td>0.131</td>\n",
       "      <td>0.9985</td>\n",
       "      <td>15.950820</td>\n",
       "      <td>7.99</td>\n",
       "      <td>45.05</td>\n",
       "      <td>7.166667</td>\n",
       "      <td>973</td>\n",
       "    </tr>\n",
       "    <tr>\n",
       "      <th>2</th>\n",
       "      <td>2</td>\n",
       "      <td>blog/uncertainty-in-business-volatile-market</td>\n",
       "      <td>Uncertainty in business and how to deal with it</td>\n",
       "      <td>2022-09-12</td>\n",
       "      <td>Opinion</td>\n",
       "      <td>Future uncertainty, how to deal with uncertain...</td>\n",
       "      <td>The silver lining to all this doom and gloom i...</td>\n",
       "      <td>Looming global threats like war, recession and...</td>\n",
       "      <td>Andreas Lindqvist</td>\n",
       "      <td>Business Director, Futurice</td>\n",
       "      <td>...</td>\n",
       "      <td>0.571429</td>\n",
       "      <td>0.193</td>\n",
       "      <td>0.704</td>\n",
       "      <td>0.103</td>\n",
       "      <td>-0.7525</td>\n",
       "      <td>35.500000</td>\n",
       "      <td>11.40</td>\n",
       "      <td>43.90</td>\n",
       "      <td>17.000000</td>\n",
       "      <td>71</td>\n",
       "    </tr>\n",
       "    <tr>\n",
       "      <th>3</th>\n",
       "      <td>3</td>\n",
       "      <td>blog/futustories-emma-leena-heikkinens-story</td>\n",
       "      <td>FutuStories – Emma-Leena Heikkinen’s story</td>\n",
       "      <td>2022-09-01</td>\n",
       "      <td>Culture</td>\n",
       "      <td>To be leader is not naturally given. Emma-Leen...</td>\n",
       "      <td>What does your role involve?\\r\\nI’m a client l...</td>\n",
       "      <td>Human connections, honesty and trust are impor...</td>\n",
       "      <td>Pia Hämäri</td>\n",
       "      <td>Marketing Lead, Finland</td>\n",
       "      <td>...</td>\n",
       "      <td>0.672222</td>\n",
       "      <td>0.031</td>\n",
       "      <td>0.789</td>\n",
       "      <td>0.180</td>\n",
       "      <td>0.9993</td>\n",
       "      <td>19.195652</td>\n",
       "      <td>7.52</td>\n",
       "      <td>68.50</td>\n",
       "      <td>9.847826</td>\n",
       "      <td>883</td>\n",
       "    </tr>\n",
       "    <tr>\n",
       "      <th>4</th>\n",
       "      <td>4</td>\n",
       "      <td>blog/safe-route-uncertain-times</td>\n",
       "      <td>The Safe Route project and how it relates to d...</td>\n",
       "      <td>2022-08-26</td>\n",
       "      <td>Opinion</td>\n",
       "      <td>Good quality data used in the right way is at ...</td>\n",
       "      <td>Safe Route uses data from STRADA - a database ...</td>\n",
       "      <td>Safe Route was conceived as a new way to think...</td>\n",
       "      <td>Sonja Lakner</td>\n",
       "      <td>Managing Director, Sweden</td>\n",
       "      <td>...</td>\n",
       "      <td>0.609524</td>\n",
       "      <td>0.065</td>\n",
       "      <td>0.711</td>\n",
       "      <td>0.224</td>\n",
       "      <td>0.9995</td>\n",
       "      <td>27.709677</td>\n",
       "      <td>9.07</td>\n",
       "      <td>39.20</td>\n",
       "      <td>14.259259</td>\n",
       "      <td>859</td>\n",
       "    </tr>\n",
       "  </tbody>\n",
       "</table>\n",
       "<p>5 rows × 24 columns</p>\n",
       "</div>"
      ],
      "text/plain": [
       "   index                                                url  \\\n",
       "0      0  blog/futustories-six-reasons-pasi-left-and-cam...   \n",
       "1      1      blog/foresight-methods-and-strategic-planning   \n",
       "2      2       blog/uncertainty-in-business-volatile-market   \n",
       "3      3       blog/futustories-emma-leena-heikkinens-story   \n",
       "4      4                    blog/safe-route-uncertain-times   \n",
       "\n",
       "                                               title        time  category  \\\n",
       "0  FutuStories - Six reasons Pasi left – and came...  2022-09-16   Culture   \n",
       "1  Foresight methods and strategic planning in bu...  2022-09-13  Strategy   \n",
       "2    Uncertainty in business and how to deal with it  2022-09-12   Opinion   \n",
       "3         FutuStories – Emma-Leena Heikkinen’s story  2022-09-01   Culture   \n",
       "4  The Safe Route project and how it relates to d...  2022-08-26   Opinion   \n",
       "\n",
       "                                         description  \\\n",
       "0  For Senior Cloud Consultant Pasi, a change can...   \n",
       "1  Foresight methods and strategic planning lead ...   \n",
       "2  Future uncertainty, how to deal with uncertain...   \n",
       "3  To be leader is not naturally given. Emma-Leen...   \n",
       "4  Good quality data used in the right way is at ...   \n",
       "\n",
       "                                                text  \\\n",
       "0  1. I need awesome people around me…\\r\\nI’d say...   \n",
       "1  This is where foresight methods and strategic ...   \n",
       "2  The silver lining to all this doom and gloom i...   \n",
       "3  What does your role involve?\\r\\nI’m a client l...   \n",
       "4  Safe Route uses data from STRADA - a database ...   \n",
       "\n",
       "                                        introduction             author  \\\n",
       "0  For Cloud Archtitect Pasi, a change can be as ...         Pia Hämäri   \n",
       "1  If the past few years have taught us anything,...  Annina Antinranta   \n",
       "2  Looming global threats like war, recession and...  Andreas Lindqvist   \n",
       "3  Human connections, honesty and trust are impor...         Pia Hämäri   \n",
       "4  Safe Route was conceived as a new way to think...       Sonja Lakner   \n",
       "\n",
       "                         author_job_title  ...     exit%  semantic neg score  \\\n",
       "0                 Marketing Lead, Finland  ...  0.527473               0.053   \n",
       "1  Principal Designer - Emerging Business  ...  0.272727               0.020   \n",
       "2             Business Director, Futurice  ...  0.571429               0.193   \n",
       "3                 Marketing Lead, Finland  ...  0.672222               0.031   \n",
       "4               Managing Director, Sweden  ...  0.609524               0.065   \n",
       "\n",
       "   semantic neu score  semantic pos score  semantic compound score  \\\n",
       "0               0.760               0.187                   0.9990   \n",
       "1               0.849               0.131                   0.9985   \n",
       "2               0.704               0.103                  -0.7525   \n",
       "3               0.789               0.180                   0.9993   \n",
       "4               0.711               0.224                   0.9995   \n",
       "\n",
       "   average_sentence_length  dale_chall  flesch  average_stopword  text_length  \n",
       "0                17.560976        6.88   75.84          8.707317          720  \n",
       "1                15.950820        7.99   45.05          7.166667          973  \n",
       "2                35.500000       11.40   43.90         17.000000           71  \n",
       "3                19.195652        7.52   68.50          9.847826          883  \n",
       "4                27.709677        9.07   39.20         14.259259          859  \n",
       "\n",
       "[5 rows x 24 columns]"
      ]
     },
     "execution_count": 42,
     "metadata": {},
     "output_type": "execute_result"
    }
   ],
   "source": [
    "### Get the data\n",
    "\n",
    "df = pd.read_csv(\"../data/blogs_with_analytics.csv\", sep=\"\\t\")\n",
    "df.dropna(subset=[\"text\"], inplace=True)\n",
    "df.head(5)"
   ]
  },
  {
   "cell_type": "markdown",
   "metadata": {},
   "source": [
    "# Average sentence length\n",
    "In this part, the average sentence length of each blog is calculated to form a new column."
   ]
  },
  {
   "cell_type": "markdown",
   "metadata": {},
   "source": [
    "The process to calculate the average length is as follow:\n",
    "\n",
    "-   The texts are tokenized using `nltk`'s `sent_tokenize` method\n",
    "-   The words that have the form a number followed by a dot , for example 1., 2. ,... will be removed from the sentences\n",
    "-   The sentences will be further cleaned, such that words of the form some punctuations followed by text will have the punctuations removed. For example '//u003e' will be converted into 'u003e'\n",
    "-   Finally, the average sentence length will be calculated"
   ]
  },
  {
   "cell_type": "code",
   "execution_count": 43,
   "metadata": {},
   "outputs": [],
   "source": [
    "#### AVERAGE SENTENCE LENGTH IN THE TEXT\n",
    "texts = df[\"text\"].astype(str)\n",
    "sents_df = [sent_tokenize(sent) for sent in texts]\n",
    "\n",
    "sents_df = [ [re.sub(pattern=\"\\d+[.]\",repl=\"\", string=sent.strip()) for sent in sent_df] for sent_df in sents_df ]\n",
    "sents_df = [ [re.sub(pattern=\"[^a-zA-Z0-9\\s]\",repl=\"\", string=sent) for sent in sent_df] for sent_df in sents_df ]\n",
    "\n",
    "## Filter out the strings that only contains a white space\n",
    "res_df = [ [ sent.strip().replace('\\r', '.').replace('\\n', '.').split('.') for sent in sent_df if sent != \"\" ] for sent_df in sents_df ]\n",
    "res_df = [ [sentence.strip() for sentences in bunch for sentence in sentences if sentence != ''] for bunch in res_df ]\n",
    "\n",
    "splitted_df = [ [ [char for char in sent.split(\" \") if char != \"\"] for sent in res] for res in res_df ]\n",
    "avg_df = [ np.mean([len(chunk) for chunk in spliting]) for spliting in splitted_df ]\n",
    "\n",
    "\n",
    "# df[\"average_sentence_length\"] = np.array(avg_df)"
   ]
  },
  {
   "cell_type": "markdown",
   "metadata": {},
   "source": [
    "**_NOTE:_** There are two problematics results:\n",
    "\n",
    "-   The blog with url 'blog/hacker-news-favorites' has some code for a table mixed in with the text, thus the average sentence length is over 300\n",
    "-   The blog with url 'blog/cycleconf-2017-attracted-some-very-different-cyclists-to-stockholm-this-spring' has the text only as .\""
   ]
  },
  {
   "cell_type": "markdown",
   "metadata": {},
   "source": [
    "# Total words in a text\n",
    "The calculation for this part is essentially the average but instead of using `mean` in the last part we use `sum`"
   ]
  },
  {
   "cell_type": "code",
   "execution_count": 44,
   "metadata": {},
   "outputs": [
    {
     "data": {
      "text/plain": [
       "0       720\n",
       "1       973\n",
       "2        71\n",
       "3       883\n",
       "4       859\n",
       "       ... \n",
       "780     315\n",
       "781      59\n",
       "782     196\n",
       "783     268\n",
       "784    1108\n",
       "Name: text_length, Length: 785, dtype: int32"
      ]
     },
     "execution_count": 44,
     "metadata": {},
     "output_type": "execute_result"
    }
   ],
   "source": [
    "sum_df = [ np.sum([len(chunk) for chunk in spliting]) for spliting in splitted_df ]\n",
    "df['text_length'] = np.array(sum_df)"
   ]
  },
  {
   "cell_type": "markdown",
   "metadata": {},
   "source": [
    "# Text readability\n",
    "\n",
    "This will consider some readability statistics:\n",
    "\n",
    "-   Dale-Chall readability formula (Using the new Dale-Chall formula)\n",
    "-   Flesh-Kincaid readability tests"
   ]
  },
  {
   "cell_type": "code",
   "execution_count": 45,
   "metadata": {},
   "outputs": [],
   "source": [
    "# text = df[\"text\"][0]\n",
    "# text\n",
    "\n",
    "df[\"text\"]\n",
    "\n",
    "sum = 0\n",
    "\n",
    "dale_chall = np.full(df.shape[0], -1, float)\n",
    "flesch = np.full(df.shape[0], -1, float)\n",
    "\n",
    "for i, text in enumerate(df.text):\n",
    "    dale_chall[i] = textstat.dale_chall_readability_score(text)\n",
    "    flesch[i] = textstat.flesch_reading_ease(text)\n",
    "\n",
    "\n",
    "df[\"dale_chall\"] = dale_chall\n",
    "df[\"flesch\"] = flesch"
   ]
  },
  {
   "cell_type": "markdown",
   "metadata": {},
   "source": [
    "# Average stopwords per sentence\n",
    "The code block below is to test for one text only, change the `run_test_stopword` flag to `True` to run"
   ]
  },
  {
   "cell_type": "code",
   "execution_count": 46,
   "metadata": {},
   "outputs": [
    {
     "name": "stderr",
     "output_type": "stream",
     "text": [
      "C:\\Users\\dng09\\AppData\\Local\\Temp\\ipykernel_12940\\3492835752.py:4: VisibleDeprecationWarning: Creating an ndarray from ragged nested sequences (which is a list-or-tuple of lists-or-tuples-or ndarrays with different lengths or shapes) is deprecated. If you meant to do this, you must specify 'dtype=object' when creating the ndarray.\n",
      "  stopwords_df = np.array([word_tokenize(text) for text in texts])\n"
     ]
    }
   ],
   "source": [
    "texts = df[\"text\"].astype(str)\n",
    "sents_length_df = np.array([len(sent_tokenize(sent)) for sent in texts])\n",
    "\n",
    "stopwords_df = np.array([word_tokenize(text) for text in texts])\n",
    "stopwords_df = np.array([len([w for w in tokens if w in stopwords.words('english')]) for tokens in stopwords_df])"
   ]
  },
  {
   "cell_type": "markdown",
   "metadata": {},
   "source": [
    "After getting the arrays, we use the `divide` function of `numpy` to get the desired column. The reason I split this into two blocks is to avoid running the array generating code again if something needed to be change."
   ]
  },
  {
   "cell_type": "code",
   "execution_count": null,
   "metadata": {},
   "outputs": [],
   "source": [
    "df[\"average_stopword\"] = np.divide(stopwords_df, sents_length_df)"
   ]
  },
  {
   "cell_type": "markdown",
   "metadata": {},
   "source": [
    "Now, let's add the generated statistic into the csv file"
   ]
  },
  {
   "cell_type": "code",
   "execution_count": null,
   "metadata": {},
   "outputs": [],
   "source": [
    "df.to_csv(\"../data/blogs_with_analytics.csv\", sep=\"\\t\", index=False)"
   ]
  }
 ],
 "metadata": {
  "kernelspec": {
   "display_name": "Python 3.10.4 64-bit",
   "language": "python",
   "name": "python3"
  },
  "language_info": {
   "codemirror_mode": {
    "name": "ipython",
    "version": 3
   },
   "file_extension": ".py",
   "mimetype": "text/x-python",
   "name": "python",
   "nbconvert_exporter": "python",
   "pygments_lexer": "ipython3",
   "version": "3.10.4"
  },
  "orig_nbformat": 4,
  "vscode": {
   "interpreter": {
    "hash": "3fa75e2484a89940c26d19357110950d7ef4b8744cef463e4a6233517777ac3d"
   }
  }
 },
 "nbformat": 4,
 "nbformat_minor": 2
}
